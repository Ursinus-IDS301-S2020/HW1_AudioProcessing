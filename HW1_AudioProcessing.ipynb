{
 "cells": [
  {
   "cell_type": "code",
   "execution_count": null,
   "metadata": {},
   "outputs": [],
   "source": [
    "import numpy as np # This is the main numerical library we will use\n",
    "import matplotlib.pyplot as plt # This is the main plotting library we will use\n",
    "import scipy.io.wavfile as wavfile # We will use this library to load in audio\n",
    "import IPython.display as ipd # This is a library that allows us to play audio samples in Jupyter\n",
    "from scipy.signal import fftconvolve # A faster function for convolution (i.e. \"echo simulation\")"
   ]
  },
  {
   "cell_type": "code",
   "execution_count": null,
   "metadata": {},
   "outputs": [],
   "source": [
    "def plot_fourier_mag(x, fs):\n",
    "    \"\"\"\n",
    "    Given audio samples and the sample rate, plot\n",
    "    the magnitude of the Fourier transform of x with \n",
    "    the appropriate frequency labels\n",
    "    Parameters\n",
    "    ----------\n",
    "    x: ndarray(N)\n",
    "        The audio samples\n",
    "    fs: int\n",
    "        The sample rate in hz\n",
    "    \"\"\"\n",
    "    xft = np.abs(np.fft.fft(x))\n",
    "    freqs = np.fft.fftfreq(len(x), 1/fs)\n",
    "    plt.plot(freqs, np.abs(xft))\n",
    "    plt.xlabel(\"Frequency\")\n",
    "    plt.ylabel(\"Magnitude\")"
   ]
  },
  {
   "cell_type": "markdown",
   "metadata": {},
   "source": [
    "## Part 1: Comb Filters"
   ]
  },
  {
   "cell_type": "code",
   "execution_count": null,
   "metadata": {},
   "outputs": [],
   "source": [
    "import numpy as np\n",
    "import matplotlib.pyplot as plt\n",
    "\n",
    "def get_comb_sound(fs, halfstep, duration, n_pulses):\n",
    "    \"\"\"\n",
    "    Parameters\n",
    "    ----------\n",
    "    fs: int\n",
    "        The sampling frequency (number of samples per second)\n",
    "    halfstep: int\n",
    "        How many halfsteps above concert A the note is\n",
    "    duration: float\n",
    "        The number of seconds of audio to generate\n",
    "    n_pulses: int\n",
    "        The number of pulses to use in the comb filter\n",
    "    Returns\n",
    "    -------\n",
    "    x: ndarray(N)\n",
    "        The audio samples of an appropriate length\n",
    "    \"\"\"\n",
    "    N = int(fs*duration)\n",
    "    x = np.random.randn(N)\n",
    "    ## TODO: Finish this.  The reference solution has 4 lines\n",
    "    return x\n",
    "\n",
    "fs = 44100\n",
    "# This should return a \"D\" that's one second long\n",
    "x = get_comb_sound(fs, 5, 1, 10) \n",
    "\n",
    "## Plot the first 1000 samples of the waveform, along with \n",
    "## the Fourier Magnitude from [0hz, 8000hz]\n",
    "plt.subplot(2, 1, 1)\n",
    "plt.plot(x[0:1000])\n",
    "plt.subplot(2, 1, 2)\n",
    "plot_fourier_mag(x, fs)\n",
    "plt.xlim([0, 8000])\n",
    "ipd.Audio(x, rate=fs)"
   ]
  },
  {
   "cell_type": "markdown",
   "metadata": {},
   "source": [
    "## Square Waves"
   ]
  },
  {
   "cell_type": "code",
   "execution_count": null,
   "metadata": {},
   "outputs": [],
   "source": [
    "## TODO: Fill in the appropriate code, and answer the questions"
   ]
  },
  {
   "cell_type": "markdown",
   "metadata": {},
   "source": [
    "## Musical Statement"
   ]
  },
  {
   "cell_type": "code",
   "execution_count": null,
   "metadata": {},
   "outputs": [],
   "source": [
    "## TODO: Change this to your own example\n",
    "fs, x = wavfile.read(\"aud_jessiesgirl.wav\")\n",
    "fs, h = wavfile.read(\"imp_JFKTunnel.wav\")\n",
    "y = fftconvolve(x, h)\n",
    "\n",
    "y /= np.max(np.abs(y))\n",
    "wavfile.write(\"jessiesgirl_JFKTunnel.wav\", fs, y)\n",
    "\n",
    "ipd.Audio(y, rate=fs)"
   ]
  },
  {
   "cell_type": "code",
   "execution_count": null,
   "metadata": {},
   "outputs": [],
   "source": []
  }
 ],
 "metadata": {
  "kernelspec": {
   "display_name": "Python 3",
   "language": "python",
   "name": "python3"
  },
  "language_info": {
   "codemirror_mode": {
    "name": "ipython",
    "version": 3
   },
   "file_extension": ".py",
   "mimetype": "text/x-python",
   "name": "python",
   "nbconvert_exporter": "python",
   "pygments_lexer": "ipython3",
   "version": "3.7.6"
  }
 },
 "nbformat": 4,
 "nbformat_minor": 2
}
